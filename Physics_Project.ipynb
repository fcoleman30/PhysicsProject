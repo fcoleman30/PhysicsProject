{
 "cells": [
  {
   "cell_type": "code",
   "execution_count": 1,
   "id": "9cba55cf",
   "metadata": {},
   "outputs": [],
   "source": [
    "import matplotlib.pyplot as plt\n",
    "import numpy as np\n",
    "import pandas as pd\n",
    "from scipy.optimize import curve_fit"
   ]
  },
  {
   "cell_type": "markdown",
   "id": "bd981df8",
   "metadata": {},
   "source": [
    "# Hydrogen"
   ]
  },
  {
   "cell_type": "markdown",
   "id": "75e3be7e",
   "metadata": {},
   "source": [
    "The theory behind this computational analysis is given in the Onenote in the teams drive. However, relevant mathematics will be included.\n",
    "\n",
    "The energy levels in the system is given by the function:\n",
    "\n",
    "$$E = -\\frac{m_e e^4}{32\\pi^2\\epsilon_{0}^2\\hbar^2n^2}Z^2$$\n",
    "\n",
    "where $m_e$ is the mass of the electron, $e$ is the fundamental charge of the electron, $\\epsilon_{0}$ is the permittivity of free space, $\\hbar$ is the value of $\\frac{h}{2\\pi}$ where $h$ is the value of Planck's constant, $n$ is just an integer and $Z$ is the charge of the nucleus.\n",
    "\n",
    "However, we can change the system to included the reduced mass of hydrogen, $\\mu_H$ where the reduced mass is given by\n",
    "$$ \\mu = \\frac{m_em_p}{m_e+m_p} $$\n",
    "\n",
    "As such, the energy levels in the system is given by the function:\n",
    "\n",
    "$$E = -\\frac{\\mu e^4}{32\\pi^2\\epsilon_{0}^2\\hbar^2n^2}Z^2$$"
   ]
  },
  {
   "cell_type": "code",
   "execution_count": 2,
   "id": "08e74372",
   "metadata": {},
   "outputs": [
    {
     "name": "stdout",
     "output_type": "stream",
     "text": [
      "9.10442527651264e-31\n"
     ]
    },
    {
     "data": {
      "text/plain": [
       "[-13.5982872641624,\n",
       " -3.3995718160406,\n",
       " -1.5109208071291558,\n",
       " -0.84989295401015,\n",
       " -0.5439314905664959,\n",
       " -0.37773020178228894,\n",
       " -0.27751606661555916,\n",
       " -0.2124732385025375,\n",
       " -0.16788008968101728,\n",
       " -0.13598287264162398]"
      ]
     },
     "execution_count": 2,
     "metadata": {},
     "output_type": "execute_result"
    }
   ],
   "source": [
    "mu_H = (1.67262192e-27*9.1093837015e-31)/(1.67262192e-27+9.1093837015e-31)\n",
    "print(mu_H)\n",
    "\n",
    "def calc_E(Z, i):\n",
    "    E =-1*((mu_H*(1.602176634e-19**4))/(2*((4*np.pi*8.8541878128e-12)**2)*((6.62607015e-34/(2*np.pi))**2)*(i**2))*(Z**2))*(1/1.602176634e-19)\n",
    "    return E\n",
    "\n",
    "array = []\n",
    "for i in range(1,11):\n",
    "    array.append(calc_E(1, i))\n",
    "array"
   ]
  },
  {
   "cell_type": "markdown",
   "id": "bd6e034c",
   "metadata": {},
   "source": [
    "The wavelength from the function is given by the following equation:\n",
    "\n",
    "$$ \\lambda = \\frac{hc}{\\lvert{E_{f} - E_{i}}\\rvert} $$\n",
    "\n",
    "where $\\lambda$ is the wavelength, $E_{f}$ is the energy of the final state, $E_{i}$ is the energy of the initial state."
   ]
  },
  {
   "cell_type": "code",
   "execution_count": 3,
   "id": "e81fc757",
   "metadata": {},
   "outputs": [
    {
     "data": {
      "text/plain": [
       "[6.564696063390804e-07,\n",
       " 4.862737824733928e-07,\n",
       " 4.341730200655293e-07,\n",
       " 4.1029350396192514e-07,\n",
       " 3.9712358901993746e-07,\n",
       " 3.8901902597871426e-07,\n",
       " 3.8365106863972225e-07,\n",
       " 3.799013925573382e-07]"
      ]
     },
     "execution_count": 3,
     "metadata": {},
     "output_type": "execute_result"
    }
   ],
   "source": [
    "def calc_wavelength(E_i, E_f):\n",
    "    wavelength = (6.62607015e-34*2.99792458e8)/(abs((E_f - E_i)*1.602176634e-19))\n",
    "    return wavelength\n",
    "\n",
    "#Balmer Series \n",
    "array_ba = []\n",
    "for i in range(2,10):\n",
    "    wavelength = calc_wavelength(array[1], array[i])\n",
    "    array_ba.append(wavelength)\n",
    "array_ba"
   ]
  },
  {
   "cell_type": "markdown",
   "id": "dc733afc",
   "metadata": {},
   "source": [
    "The Rydberg constant (inifnity) $R_\\infty$ is given by the following equation:\n",
    "\n",
    "$$ R_\\infty = \\frac{1}{\\lambda (\\frac{1}{n_{f}^2} - \\frac{1}{n_{i}^2})} $$\n",
    "\n",
    "where $\\lambda$ is the wavelength, $n_{f}$ is the quantum number of the final state, $n_{i}$ is the quantum number of the initial state."
   ]
  },
  {
   "cell_type": "code",
   "execution_count": 4,
   "id": "d3955d13",
   "metadata": {},
   "outputs": [
    {
     "name": "stdout",
     "output_type": "stream",
     "text": [
      "The value of the Hydrogen Rydberg constant is: 10967758.340179803\n"
     ]
    }
   ],
   "source": [
    "def calc_R_H(wavelength, n_f, n_i):\n",
    "    R = 1/(wavelength*(1/(n_f**2) - 1/(n_i**2)))\n",
    "    return R\n",
    "\n",
    "array_R = []\n",
    "for i in range(0,7):\n",
    "    R = calc_R_H(array_ba[i], 2, i+3)\n",
    "    array_R.append(R)\n",
    "print(\"The value of the Hydrogen Rydberg constant is:\", array_R[1])"
   ]
  },
  {
   "cell_type": "markdown",
   "id": "06b55cfa",
   "metadata": {},
   "source": [
    "The infinty Rydberg constant is now given by the following equation\n",
    "\n",
    "$$R_\\infty = R_H \\frac{m_e}{\\mu_H}$$"
   ]
  },
  {
   "cell_type": "code",
   "execution_count": 5,
   "id": "240e252a",
   "metadata": {},
   "outputs": [
    {
     "name": "stdout",
     "output_type": "stream",
     "text": [
      "The value of the infinity Rydberg constant is: 10973731.56807257\n"
     ]
    }
   ],
   "source": [
    "R_H = array_R[1]*(9.1093837015e-31/mu_H)\n",
    "print(\"The value of the infinity Rydberg constant is:\", R_H)"
   ]
  },
  {
   "cell_type": "markdown",
   "id": "4ee64d11",
   "metadata": {},
   "source": [
    "# Deuterium"
   ]
  },
  {
   "cell_type": "markdown",
   "id": "38f1627b",
   "metadata": {},
   "source": [
    "Now we can change the system to included the reduced mass $\\mu$ of deuterium where the reduced mass is given by\n",
    "$$ \\mu = \\frac{m_e(m_p+m_n)}{m_e+(m_p+m_n)} $$\n",
    "As such, the energy levels in this semi classical model are given by \n",
    "\n",
    "$$E = -\\frac{\\mu e^4}{32\\pi^2\\epsilon_{0}^2\\hbar^2n^2}Z^2$$\n",
    "\n",
    "Since there is only 1 electron we will not include spin orbit effects."
   ]
  },
  {
   "cell_type": "code",
   "execution_count": 6,
   "id": "62f792ee",
   "metadata": {},
   "outputs": [
    {
     "name": "stdout",
     "output_type": "stream",
     "text": [
      "9.10662507271834e-31\n"
     ]
    },
    {
     "data": {
      "text/plain": [
       "[6.5631102955156e-07,\n",
       " 4.861563181863407e-07,\n",
       " 4.3406814123780424e-07,\n",
       " 4.1019439346972503e-07,\n",
       " 3.970276598521783e-07,\n",
       " 3.889250545490726e-07,\n",
       " 3.8355839389376886e-07,\n",
       " 3.7980962358307865e-07]"
      ]
     },
     "execution_count": 6,
     "metadata": {},
     "output_type": "execute_result"
    }
   ],
   "source": [
    "mu_D = ((9.1091031e-31*(1.6726219e-27+1.674927471e-27)))/(9.1091031e-31+(1.6726219e-27+1.674927471e-27))\n",
    "\n",
    "print(mu_D)\n",
    "\n",
    "def calc_E_D(Z, i):\n",
    "    E =-1*((mu_D*(1.602176634e-19**4))/(2*((4*np.pi*8.8541878128e-12)**2)*((6.62607015e-34/(2*np.pi))**2)*(i**2))*(Z**2))*(1/1.602176634e-19)\n",
    "    return E\n",
    "\n",
    "arrayD = []\n",
    "for i in range(1,11):\n",
    "    arrayD.append(calc_E_D(1, i))\n",
    "arrayD\n",
    "\n",
    "#Balmer Series \n",
    "array_baD = []\n",
    "for i in range(2,10):\n",
    "    wavelength = calc_wavelength(arrayD[1], arrayD[i])\n",
    "    array_baD.append(wavelength)\n",
    "array_baD"
   ]
  },
  {
   "cell_type": "markdown",
   "id": "9208c214",
   "metadata": {},
   "source": [
    "The Rydberg constant (Deuterium) $R_D$ is given by the following equation:\n",
    "\n",
    "$$ R_D = \\frac{1}{\\lambda(\\frac{1}{n_{f}^2} - \\frac{1}{n_{i}^2})} $$\n",
    "\n",
    "where $\\lambda$ is the wavelength, $n_{f}$ is the quantum number of the final state, $n_{i}$ is the quantum number of the initial state."
   ]
  },
  {
   "cell_type": "code",
   "execution_count": 7,
   "id": "080fe1a5",
   "metadata": {},
   "outputs": [
    {
     "name": "stdout",
     "output_type": "stream",
     "text": [
      "The value of the Deuteriun Rydberg constant is: 10967758.340179801\n"
     ]
    }
   ],
   "source": [
    "def calc_R_D(wavelength, n_f, n_i):\n",
    "    R = 1/(wavelength*(1/(n_f**2) - 1/(n_i**2)))\n",
    "    return R\n",
    "\n",
    "array_R_D = []\n",
    "for i in range(0,7):\n",
    "    R = calc_R_D(array_baD[i], 2, i+3)\n",
    "    array_R_D.append(R)\n",
    "print(\"The value of the Deuteriun Rydberg constant is:\", array_R[0])"
   ]
  },
  {
   "cell_type": "markdown",
   "id": "f8bccfaf",
   "metadata": {},
   "source": [
    "The infinity Rydberg constant is now given by the following equation\n",
    "\n",
    "$$R_\\infty = R_{D} \\frac{m_e}{\\mu_D}$$"
   ]
  },
  {
   "cell_type": "code",
   "execution_count": 8,
   "id": "847e0491",
   "metadata": {},
   "outputs": [
    {
     "name": "stdout",
     "output_type": "stream",
     "text": [
      "The value of the inifinity Rydberg constant is: 10973731.568072572\n"
     ]
    }
   ],
   "source": [
    "R_infinity_D = array_R_D[0]*(9.1093837015e-31/mu_D)\n",
    "print(\"The value of the inifinity Rydberg constant is:\", R_infinity_D)"
   ]
  },
  {
   "cell_type": "markdown",
   "id": "73f924d5",
   "metadata": {},
   "source": [
    "# Helium + ion"
   ]
  },
  {
   "cell_type": "markdown",
   "id": "3df75b85",
   "metadata": {},
   "source": [
    "Now we can change the system to included the reduced mass $\\mu$ of the helium ion where the reduced mass is given by\n",
    "$$ \\mu = \\frac{2m_e(m_p+m_n)}{m_e+2(m_p+m_n)} $$\n",
    "Looking at this problem using the energy levels from Schrodinger's model of the atom\n",
    "\n",
    "$$E = -\\frac{\\mu e^4}{32\\pi^2\\epsilon_{0}^2\\hbar^2n^2}Z^2$$\n",
    "\n",
    "Therefore, we must use the less used Bohr's model in order to predict the angles measured \n",
    "\n",
    "Since there is only 1 electron we will not include spin orbit effects."
   ]
  },
  {
   "cell_type": "code",
   "execution_count": 9,
   "id": "c239e203",
   "metadata": {},
   "outputs": [
    {
     "name": "stdout",
     "output_type": "stream",
     "text": [
      "9.107863917825278e-31\n",
      "[-54.413692750929044, -13.603423187732261, -6.045965861214339, -3.4008557969330653, -2.1765477100371617, -1.5114914653035847, -1.110483525529164, -0.8502139492332663, -0.6717739845793709, -0.5441369275092904]\n",
      "[1.012687899069166e-06, 6.562217585968197e-07, 5.413277133206088e-07, 4.860901915531997e-07, 4.5430737133625984e-07, 4.340090996010712e-07]\n"
     ]
    }
   ],
   "source": [
    "mu_He = (9.1091031e-31*(2*1.67262192369e-27+2*1.67492749804e-27))/(9.1091031e-31+(2*1.67262192369e-27+2*1.67492749804e-27))\n",
    "print(mu_He)\n",
    "\n",
    "def calc_E_He(Z, i):\n",
    "    E =-1*((mu_He*(1.602176634e-19**4))/(2*((4*np.pi*8.8541878128e-12)**2)*((6.62607015e-34/(2*np.pi))**2)*(i**2))*(Z**2))*(1/1.602176634e-19)\n",
    "    return E\n",
    "    return E\n",
    "\n",
    "arrayHe = []\n",
    "for i in range(1,11):\n",
    "    arrayHe.append(calc_E_He(2, i))\n",
    "print(arrayHe)\n",
    "\n",
    "#Balmer Series \n",
    "array_baHe = []\n",
    "for i in range(4,10):\n",
    "    wavelength = calc_wavelength(arrayHe[3], arrayHe[i])\n",
    "    array_baHe.append(wavelength)\n",
    "\n",
    "print(array_baHe)"
   ]
  },
  {
   "cell_type": "code",
   "execution_count": 10,
   "id": "d23788f1",
   "metadata": {},
   "outputs": [
    {
     "name": "stdout",
     "output_type": "stream",
     "text": [
      "[-54.413692750929044, -13.603423187732261, -6.045965861214339, -3.4008557969330653, -2.1765477100371617, -1.5114914653035847, -1.110483525529164, -0.8502139492332663, -0.6717739845793709, -0.5441369275092904, -0.4496999400903227]\n",
      "[1.012687899069166e-06, 6.562217585968197e-07, 5.413277133206088e-07, 4.860901915531997e-07, 4.5430737133625984e-07, 4.340090996010712e-07, 4.2012080841383695e-07]\n"
     ]
    }
   ],
   "source": [
    "def calc_E_He(Z, i):\n",
    "    E =-1*((mu_He*(1.602176634e-19**4))/(2*((4*np.pi*8.8541878128e-12)**2)*((6.62607015e-34/(2*np.pi))**2)*(i**2))*(Z**2))*(1/1.602176634e-19)\n",
    "    return E\n",
    "\n",
    "arrayHe = []\n",
    "for i in range(1,12):\n",
    "    arrayHe.append(calc_E_He(2, i))\n",
    "print(arrayHe)\n",
    "\n",
    "#Balmer Series \n",
    "array_baHe = []\n",
    "for i in range(4,11):\n",
    "    wavelength = calc_wavelength(arrayHe[3], arrayHe[i])\n",
    "    array_baHe.append(wavelength)\n",
    "\n",
    "print(array_baHe)"
   ]
  },
  {
   "cell_type": "markdown",
   "id": "7b9f63a3",
   "metadata": {},
   "source": [
    "The Helium Rydberg constant $R_{He}$ is given by the following equation:\n",
    "\n",
    "$$ R_{He} = \\frac{1}{\\lambda (\\frac{1}{n_{f}^2} - \\frac{1}{n_{i}^2})} $$\n",
    "\n",
    "where $\\lambda$ is the wavelength, $n_{f}$ is the quantum number of the final state, $n_{i}$ is the quantum number of the initial state."
   ]
  },
  {
   "cell_type": "code",
   "execution_count": 11,
   "id": "0a18abcb",
   "metadata": {},
   "outputs": [
    {
     "name": "stdout",
     "output_type": "stream",
     "text": [
      "[43887602.967603855, 43887602.96760385, 43887602.96760385, 43887602.96760385, 43887602.96760385, 43887602.96760385]\n",
      "The value of the Helium Rydberg constant is 43887602.967603855\n"
     ]
    }
   ],
   "source": [
    "def calc_R_He(wavelength, n_f, n_i):\n",
    "    R = 1/(wavelength*(1/(n_f**2) - 1/(n_i**2)))\n",
    "    return R\n",
    "\n",
    "array_R_He = []\n",
    "for i in range(0,6):\n",
    "    R = calc_R_He(array_baHe[i], 4, i+5)\n",
    "    array_R_He.append(R)\n",
    "print(array_R_He)\n",
    "print(\"The value of the Helium Rydberg constant is\", array_R_He[0])"
   ]
  },
  {
   "cell_type": "markdown",
   "id": "f8f8f14c",
   "metadata": {},
   "source": [
    "The infinity Rydberg constant is now given by the following equation\n",
    "\n",
    "$$R_\\infty = R_{He}\\frac{m_e}{\\mu_{He}}\\frac{1}{Z^2}$$"
   ]
  },
  {
   "cell_type": "code",
   "execution_count": 12,
   "id": "8c4600c5",
   "metadata": {},
   "outputs": [
    {
     "name": "stdout",
     "output_type": "stream",
     "text": [
      "The value of the infinty Rydberg constant is: 10973731.568072574\n"
     ]
    }
   ],
   "source": [
    "R_He = array_R_He[0]*(9.1093837015e-31/mu_He)\n",
    "print(\"The value of the infinty Rydberg constant is:\", R_He/4)"
   ]
  },
  {
   "cell_type": "code",
   "execution_count": 13,
   "id": "ff67ca8d",
   "metadata": {},
   "outputs": [],
   "source": [
    "R_infinity=10973731.56816 \n",
    "R_He = (mu_He/9.1091031e-31)*R_infinity"
   ]
  },
  {
   "cell_type": "code",
   "execution_count": 14,
   "id": "f3b9105e",
   "metadata": {},
   "outputs": [
    {
     "name": "stdout",
     "output_type": "stream",
     "text": [
      "6.562015446214892e-07\n",
      "4.860752182381402e-07\n",
      "4.33995730569768e-07\n"
     ]
    }
   ],
   "source": [
    "for i in range(3,6):\n",
    "    wavelength = 1/(R_He*(0.25-(1/(i**2))))\n",
    "    print(wavelength)"
   ]
  },
  {
   "cell_type": "markdown",
   "id": "b310a611",
   "metadata": {},
   "source": [
    "# Graph showing the Rydberg constant"
   ]
  },
  {
   "cell_type": "code",
   "execution_count": 61,
   "id": "3eec7d92",
   "metadata": {},
   "outputs": [
    {
     "name": "stdout",
     "output_type": "stream",
     "text": [
      "[ 987471.06677109 1523875.1030418  1847309.81878945 2057231.38910643\n",
      " 2201152.92661593 2304099.1557992 ]\n",
      "[1.012687899069166e-06, 6.562217585968197e-07, 5.413277133206088e-07, 4.860901915531997e-07, 4.5430737133625984e-07, 4.340090996010712e-07, 4.2012080841383695e-07]\n"
     ]
    },
    {
     "name": "stderr",
     "output_type": "stream",
     "text": [
      "C:\\ProgramData\\Anaconda3\\lib\\site-packages\\scipy\\optimize\\minpack.py:833: OptimizeWarning: Covariance of the parameters could not be estimated\n",
      "  warnings.warn('Covariance of the parameters could not be estimated',\n"
     ]
    },
    {
     "data": {
      "image/png": "[encoded data removed]",
      "text/plain": [
       "<Figure size 720x432 with 1 Axes>"
      ]
     },
     "metadata": {
      "needs_background": "light"
     },
     "output_type": "display_data"
    }
   ],
   "source": [
    "fig = plt.figure(figsize=(10,6))\n",
    "ax = fig.add_subplot(1,1,1)\n",
    "\n",
    "p = np.zeros(7)\n",
    "k = np.zeros(6)\n",
    "inversewavelengthH = np.zeros(7)\n",
    "inversewavelengthD = np.zeros(7)\n",
    "inversewavelengthHe = np.zeros(6)\n",
    "\n",
    "for i in range(0,7):\n",
    "    p[i] = (1/2**2) - (1/(i+3)**2)\n",
    "    inversewavelengthH[i] = 1/array_ba[i]\n",
    "    inversewavelengthD[i] = 1/array_baD[i]\n",
    "    \n",
    "for i in range(0,6):\n",
    "    k[i] = (1/4**2) - (1/(i+5)**2)\n",
    "    inversewavelengthHe[i] = 1/array_baHe[i]\n",
    "\n",
    "print(inversewavelengthHe)\n",
    "print(array_baHe)\n",
    "\n",
    "ax.errorbar(p,           \n",
    "             inversewavelengthH,                   \n",
    "             marker='o',             \n",
    "             markersize = 7,        \n",
    "             color='black',         \n",
    "             ecolor='black',        \n",
    "             markerfacecolor='black',\n",
    "             linestyle='none',       \n",
    "             capsize=6,  \n",
    "             label = \"Hydrogen\",\n",
    "             )\n",
    "ax.errorbar(p,           \n",
    "             inversewavelengthD,                   \n",
    "             marker='o',             \n",
    "             markersize = 7,        \n",
    "             color='red',         \n",
    "             ecolor='red',        \n",
    "             markerfacecolor='red',\n",
    "             linestyle='none',       \n",
    "             capsize=6,  \n",
    "             label = \"Deuterium\",\n",
    "             )\n",
    "ax.errorbar(k,           \n",
    "             inversewavelengthHe,                   \n",
    "             marker='o',             \n",
    "             markersize = 7,        \n",
    "             color='blue',         \n",
    "             ecolor='blue',        \n",
    "             markerfacecolor='blue',\n",
    "             linestyle='none',       \n",
    "             capsize=6,  \n",
    "             label = \"Helium ion\",\n",
    "             )\n",
    "\n",
    "def straight_fit(z, a, b):\n",
    "    mag = a * z + b\n",
    "    return(mag)\n",
    "\n",
    "handles, labels = ax.get_legend_handles_labels()\n",
    "ax.legend(handles[::-1],labels[::-1],loc=0, numpoints=1)\n",
    "\n",
    "popt, pcov = curve_fit(straight_fit, p, inversewavelengthH)\n",
    "\n",
    "a = popt[0]\n",
    "b = popt[1]\n",
    "\n",
    "z = np.linspace(0.14, 0.25, 100)\n",
    "y = np.linspace(0.02, 0.06 , 100)\n",
    "\n",
    "ax.plot(z, straight_fit(z, a, b), color='red', ls='-', label='best fit')\n",
    "\n",
    "popt, pcov = curve_fit(straight_fit, p, inversewavelengthD)\n",
    "\n",
    "c = popt[0]\n",
    "d = popt[1]\n",
    "\n",
    "ax.plot(z, straight_fit(z, c, d), color='black', ls='--', label='best fit')\n",
    "\n",
    "popt, pcov = curve_fit(straight_fit, k, inversewavelengthHe)\n",
    "\n",
    "e = popt[0]\n",
    "f = popt[1]\n",
    "\n",
    "ax.plot(y, straight_fit(y, e, f), color='blue', ls='--', label='best fit')\n",
    "\n",
    "ax.set_xlabel('1/$n_f^2$ - 1/$n_i^2$')\n",
    "ax.set_ylabel('$1/\\lambda}$ (m$^(-1)$)')\n",
    "ax.set_title('Angles of H, D and He+')\n",
    "plt.show()"
   ]
  },
  {
   "cell_type": "raw",
   "id": "1039941d",
   "metadata": {},
   "source": [
    "There is a difference between the Hydrogen and Deuterium, the resolution is too high to see it."
   ]
  },
  {
   "cell_type": "code",
   "execution_count": 59,
   "id": "8459f379",
   "metadata": {},
   "outputs": [
    {
     "name": "stdout",
     "output_type": "stream",
     "text": [
      "[ 987471.06677109 1523875.1030418  1847309.81878945 2057231.38910643\n",
      " 2201152.92661593 2304099.1557992 ]\n",
      "[1.012687899069166e-06, 6.562217585968197e-07, 5.413277133206088e-07, 4.860901915531997e-07, 4.5430737133625984e-07, 4.340090996010712e-07, 4.2012080841383695e-07]\n"
     ]
    },
    {
     "name": "stderr",
     "output_type": "stream",
     "text": [
      "C:\\ProgramData\\Anaconda3\\lib\\site-packages\\scipy\\optimize\\minpack.py:833: OptimizeWarning: Covariance of the parameters could not be estimated\n",
      "  warnings.warn('Covariance of the parameters could not be estimated',\n"
     ]
    },
    {
     "data": {
      "image/png": "[encoded data removed]",
      "text/plain": [
       "<Figure size 720x432 with 1 Axes>"
      ]
     },
     "metadata": {
      "needs_background": "light"
     },
     "output_type": "display_data"
    }
   ],
   "source": [
    "fig = plt.figure(figsize=(10,6))\n",
    "ax = fig.add_subplot(1,1,1)\n",
    "\n",
    "p = np.zeros(7)\n",
    "k = np.zeros(6)\n",
    "inversewavelengthH = np.zeros(7)\n",
    "inversewavelengthD = np.zeros(7)\n",
    "inversewavelengthHe = np.zeros(6)\n",
    "\n",
    "for i in range(0,7):\n",
    "    p[i] = (1/2**2) - (1/(i+3)**2)\n",
    "    inversewavelengthH[i] = 1/array_ba[i]\n",
    "    inversewavelengthD[i] = 1/array_baD[i]\n",
    "    \n",
    "for i in range(0,6):\n",
    "    k[i] = (1/4**2) - (1/(i+5)**2)\n",
    "    inversewavelengthHe[i] = 1/array_baHe[i]\n",
    "\n",
    "print(inversewavelengthHe)\n",
    "print(array_baHe)\n",
    "\n",
    "ax.errorbar(p,           \n",
    "             inversewavelengthH,                   \n",
    "             marker='o',             \n",
    "             markersize = 7,        \n",
    "             color='black',         \n",
    "             ecolor='black',        \n",
    "             markerfacecolor='black',\n",
    "             linestyle='none',       \n",
    "             capsize=6,  \n",
    "             label = \"Hydrogen\",\n",
    "             )\n",
    "ax.errorbar(p,           \n",
    "             inversewavelengthD,                   \n",
    "             marker='o',             \n",
    "             markersize = 7,        \n",
    "             color='red',         \n",
    "             ecolor='red',        \n",
    "             markerfacecolor='red',\n",
    "             linestyle='none',       \n",
    "             capsize=6,  \n",
    "             label = \"Deuterium\",\n",
    "             )\n",
    "\n",
    "def straight_fit(z, a, b):\n",
    "    mag = a * z + b\n",
    "    return(mag)\n",
    "\n",
    "handles, labels = ax.get_legend_handles_labels()\n",
    "ax.legend(handles[::-1],labels[::-1],loc=0, numpoints=1)\n",
    "\n",
    "popt, pcov = curve_fit(straight_fit, p, inversewavelengthH)\n",
    "\n",
    "a = popt[0]\n",
    "b = popt[1]\n",
    "\n",
    "z = np.linspace(0.14, 0.25, 100)\n",
    "y = np.linspace(0, 0.06 , 100)\n",
    "\n",
    "ax.plot(z, straight_fit(z, a, b), color='black', ls='-', label='best fit')\n",
    "\n",
    "popt, pcov = curve_fit(straight_fit, p, inversewavelengthD)\n",
    "\n",
    "c = popt[0]\n",
    "d = popt[1]\n",
    "\n",
    "ax.plot(z, straight_fit(z, c, d), color='red', ls='--', label='best fit')\n",
    "\n",
    "ax.set_xlabel('1/$n_f^2$ - 1/$n_i^2$')\n",
    "ax.set_ylabel('$1/\\lambda$ (1/m)')\n",
    "ax.set_title('Angles of H and D')\n",
    "plt.xlim(0.186, 0.189)\n",
    "plt.ylim(2.04e6, 2.063e6)\n",
    "plt.show()"
   ]
  },
  {
   "cell_type": "markdown",
   "id": "e21432ea",
   "metadata": {},
   "source": [
    "# Producing the angles"
   ]
  },
  {
   "cell_type": "code",
   "execution_count": null,
   "id": "e8166576",
   "metadata": {},
   "outputs": [],
   "source": []
  },
  {
   "cell_type": "markdown",
   "id": "4eae719d",
   "metadata": {},
   "source": [
    "When passed through a diffraction grating, the angles where the spectral lines produced are obeyed by the following equation:\n",
    "\n",
    "$$ d\\sin(\\theta) = n\\lambda $$\n",
    "\n",
    "where $d$ is the grating spacing, $\\theta$ is the angular seperation, $n$ which is just an integer ($n = 1, 2, 3, ...$) which is equal to $1$ and $\\lambda$ which is the wavelength. As such, the angle is given by:\n",
    "\n",
    "$$ \\theta = \\arcsin \\Biggl( \\frac{n\\lambda}{d} \\Biggr) $$"
   ]
  },
  {
   "cell_type": "code",
   "execution_count": 18,
   "id": "4092e74f",
   "metadata": {},
   "outputs": [
    {
     "data": {
      "text/plain": [
       "[1.012687899069166e-06,\n",
       " 6.562217585968197e-07,\n",
       " 5.413277133206088e-07,\n",
       " 4.860901915531997e-07,\n",
       " 4.5430737133625984e-07,\n",
       " 4.340090996010712e-07,\n",
       " 4.2012080841383695e-07]"
      ]
     },
     "execution_count": 18,
     "metadata": {},
     "output_type": "execute_result"
    }
   ],
   "source": [
    "array_baHe"
   ]
  },
  {
   "cell_type": "code",
   "execution_count": 19,
   "id": "6ed0bdfa",
   "metadata": {},
   "outputs": [],
   "source": [
    "d = 1.6966e-6\n",
    "\n",
    "#Since the experimentalists can only see 3 angles it must be noted that only 3 angles work\n",
    "anglesH = np.zeros(7)\n",
    "for i in range(0,7):\n",
    "    anglesH[i] = ((180/np.pi)*np.arcsin(((1)*array_ba[i])/d))\n",
    "\n",
    "anglesD = np.zeros(7)\n",
    "for i in range(0,7):\n",
    "     anglesD[i] = ((180/np.pi)*np.arcsin(((1)*array_baD[i])/d))\n",
    "\n",
    "anglesHe = np.zeros(5)\n",
    "for i in range(0,5):\n",
    "    anglesHe[i] = ((180/np.pi)*np.arcsin(((1)*array_baHe[i])/d))"
   ]
  },
  {
   "cell_type": "code",
   "execution_count": 20,
   "id": "60ac7c38",
   "metadata": {},
   "outputs": [
    {
     "name": "stdout",
     "output_type": "stream",
     "text": [
      "[36.64766556 22.75468527 18.60646197 16.64903543 15.53191992]\n"
     ]
    }
   ],
   "source": [
    "print(anglesHe)"
   ]
  },
  {
   "cell_type": "code",
   "execution_count": 21,
   "id": "c3c91f32",
   "metadata": {},
   "outputs": [
    {
     "name": "stdout",
     "output_type": "stream",
     "text": [
      "[22.75795452 16.65136632 14.82371403 13.99128871 13.53349148 13.25220906\n",
      " 13.06608444]\n"
     ]
    }
   ],
   "source": [
    "print(anglesD)"
   ]
  },
  {
   "cell_type": "code",
   "execution_count": 22,
   "id": "a85207ba",
   "metadata": {},
   "outputs": [
    {
     "data": {
      "text/plain": [
       "array([22.76376206, 16.65550687, 14.82737786, 13.99473813, 13.53682364,\n",
       "       13.2554694 , 13.06929735])"
      ]
     },
     "execution_count": 22,
     "metadata": {},
     "output_type": "execute_result"
    }
   ],
   "source": [
    "anglesH"
   ]
  }
 ],
 "metadata": {
  "kernelspec": {
   "display_name": "Python 3 (ipykernel)",
   "language": "python",
   "name": "python3"
  },
  "language_info": {
   "codemirror_mode": {
    "name": "ipython",
    "version": 3
   },
   "file_extension": ".py",
   "mimetype": "text/x-python",
   "name": "python",
   "nbconvert_exporter": "python",
   "pygments_lexer": "ipython3",
   "version": "3.9.7"
  }
 },
 "nbformat": 4,
 "nbformat_minor": 5
}
