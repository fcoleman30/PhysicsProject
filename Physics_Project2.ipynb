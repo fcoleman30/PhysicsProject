{
 "cells": [
  {
   "cell_type": "code",
   "execution_count": 1,
   "id": "40f87589",
   "metadata": {},
   "outputs": [],
   "source": [
    "import matplotlib.pyplot as plt\n",
    "import numpy as np\n",
    "import pandas as pd\n",
    "from scipy.optimize import curve_fit"
   ]
  },
  {
   "cell_type": "markdown",
   "id": "19b66bc5",
   "metadata": {},
   "source": [
    "# Hydrogen"
   ]
  },
  {
   "cell_type": "markdown",
   "id": "ae9ccc32",
   "metadata": {},
   "source": [
    "The theory behind this computational analysis is given in the Onenote in the teams drive. However, relevant mathematics will be included.\n",
    "\n",
    "The energy levels in the system is given by the function:\n",
    "\n",
    "$$E = -\\frac{m_e e^4}{32\\pi^2\\epsilon_{0}^2\\hbar^2n^2}Z^2$$\n",
    "\n",
    "where $m_e$ is the mass of the electron, $e$ is the fundamental charge of the electron, $\\epsilon_{0}$ is the permittivity of free space, $\\hbar$ is the value of $\\frac{h}{2\\pi}$ where $h$ is the value of Planck's constant, $n$ is just an integer and $Z$ is the charge of the nucleus.\n",
    "\n",
    "However, we can change the system to included the reduced mass of hydrogen, $\\mu_H$ where the reduced mass is given by\n",
    "$$ \\mu = \\frac{m_em_p}{m_e+m_p} $$\n",
    "\n",
    "As such, the energy levels in the system is given by the function:\n",
    "\n",
    "$$E = -\\frac{\\mu e^4}{32\\pi^2\\epsilon_{0}^2\\hbar^2n^2}Z^2$$\n",
    "\n",
    "The wavelength from the function is given by the following equation:\n",
    "\n",
    "$$ \\lambda = \\frac{hc}{\\lvert{E_{f} - E_{i}}\\rvert} $$\n",
    "\n",
    "where $\\lambda$ is the wavelength, $E_{f}$ is the energy of the final state, $E_{i}$ is the energy of the initial state.\n",
    "\n",
    "The Rydberg constant (inifnity) $R_\\infty$ is given by the following equation:\n",
    "\n",
    "$$ R_\\infty = \\frac{1}{\\lambda (\\frac{1}{n_{f}^2} - \\frac{1}{n_{i}^2})} $$\n",
    "\n",
    "where $\\lambda$ is the wavelength, $n_{f}$ is the quantum number of the final state, $n_{i}$ is the quantum number of the initial state.\n",
    "\n",
    "The infinty Rydberg constant is now given by the following equation\n",
    "\n",
    "$$R_\\infty = R_H \\frac{m_e}{\\mu_H}$$"
   ]
  },
  {
   "cell_type": "code",
   "execution_count": 2,
   "id": "268e76eb",
   "metadata": {},
   "outputs": [
    {
     "name": "stdout",
     "output_type": "stream",
     "text": [
      "9.10442527651264e-31\n",
      "[-13.5982872641624, -3.3995718160406, -1.5109208071291558, -0.84989295401015, -0.5439314905664959, -0.37773020178228894, -0.27751606661555916, -0.2124732385025375, -0.16788008968101728, -0.13598287264162398]\n",
      "[6.564696063390804e-07, 4.862737824733928e-07, 4.341730200655293e-07, 4.1029350396192514e-07, 3.9712358901993746e-07, 3.8901902597871426e-07, 3.8365106863972225e-07, 3.799013925573382e-07]\n",
      "The value of the Hydrogen Rydberg constant is: 10967758.340179803\n",
      "The value of the infinity Rydberg constant is: 10973731.56807257\n"
     ]
    }
   ],
   "source": [
    "mu_H = (1.67262192e-27*9.1093837015e-31)/(1.67262192e-27+9.1093837015e-31)\n",
    "print(mu_H)\n",
    "\n",
    "def calc_E(Z, i):\n",
    "    E =-1*((mu_H*(1.602176634e-19**4))/(2*((4*np.pi*8.8541878128e-12)**2)*((6.62607015e-34/(2*np.pi))**2)*(i**2))*(Z**2))*(1/1.602176634e-19)\n",
    "    return E\n",
    "\n",
    "array = []\n",
    "for i in range(1,11):\n",
    "    array.append(calc_E(1, i))\n",
    "\n",
    "print(array)\n",
    "def calc_wavelength(E_i, E_f):\n",
    "    wavelength = (6.62607015e-34*2.99792458e8)/(abs((E_f - E_i)*1.602176634e-19))\n",
    "    return wavelength\n",
    "\n",
    "#Balmer Series \n",
    "array_ba = []\n",
    "for i in range(2,10):\n",
    "    wavelength = calc_wavelength(array[1], array[i])\n",
    "    array_ba.append(wavelength)\n",
    "print(array_ba)\n",
    "\n",
    "def calc_R_H(wavelength, n_f, n_i):\n",
    "    R = 1/(wavelength*(1/(n_f**2) - 1/(n_i**2)))\n",
    "    return R\n",
    "\n",
    "array_R = []\n",
    "for i in range(0,7):\n",
    "    R = calc_R_H(array_ba[i], 2, i+3)\n",
    "    array_R.append(R)\n",
    "print(\"The value of the Hydrogen Rydberg constant is:\", array_R[1])\n",
    "\n",
    "R_H = array_R[1]*(9.1093837015e-31/mu_H)\n",
    "print(\"The value of the infinity Rydberg constant is:\", R_H)"
   ]
  },
  {
   "cell_type": "markdown",
   "id": "d3ff160e",
   "metadata": {},
   "source": [
    "When passed through a diffraction grating, the angles where the spectral lines produced are obeyed by the following equation:\n",
    "\n",
    "$$ d\\sin(\\theta) = n\\lambda $$\n",
    "\n",
    "where $d$ is the grating spacing, $\\theta$ is the angular seperation, $n$ which is just an integer ($n = 1, 2, 3, ...$) which is equal to $1$ and $\\lambda$ which is the wavelength. As such, the angle is given by:\n",
    "\n",
    "$$ \\theta = \\arcsin \\Biggl( \\frac{n\\lambda}{d} \\Biggr) $$"
   ]
  },
  {
   "cell_type": "code",
   "execution_count": 3,
   "id": "cfc23e7d",
   "metadata": {},
   "outputs": [
    {
     "name": "stdout",
     "output_type": "stream",
     "text": [
      "[22.76376206 16.65550687 14.82737786 13.99473813 13.53682364 13.2554694\n",
      " 13.06929735]\n",
      "[22.76376206 16.65550687 14.82737786]\n"
     ]
    }
   ],
   "source": [
    "d = 1.6966e-6\n",
    "\n",
    "#Since the experimentalists can only see 3 angles it must be noted that only 3 angles work\n",
    "anglesH = np.zeros(7)\n",
    "for i in range(0,7):\n",
    "    anglesH[i] = ((180/np.pi)*np.arcsin(((1)*array_ba[i])/d))    \n",
    "print(anglesH)\n",
    "anglesH = anglesH[:-4]\n",
    "print(anglesH)"
   ]
  },
  {
   "cell_type": "code",
   "execution_count": 4,
   "id": "5ddd8063",
   "metadata": {},
   "outputs": [
    {
     "data": {
      "image/png": "[encoded data removed]",
      "text/plain": [
       "<Figure size 720x432 with 1 Axes>"
      ]
     },
     "metadata": {
      "needs_background": "light"
     },
     "output_type": "display_data"
    }
   ],
   "source": [
    "#Display the predicted angles\n",
    "fig = plt.figure(figsize=(10,6))\n",
    "ax = fig.add_subplot(1,1,1)\n",
    "\n",
    "x = [1,1,1]\n",
    "\n",
    "plt.vlines(anglesH[0], ymin=0, ymax = 1, colors='blue', ls='-', lw=2, label='vline_multiple - full height')\n",
    "plt.vlines(anglesH[1], ymin=0, ymax = 1, colors='yellow', ls='-', lw=2, label='vline_multiple - full height')\n",
    "plt.vlines(anglesH[2], ymin=0, ymax = 1, colors='red', ls='-', lw=2, label='vline_multiple - full height')\n",
    "\n",
    "ax.get_yaxis().set_visible(False)\n",
    "ax.set_xlabel('Angles ($^o$)')\n",
    "ax.set_ylabel('')\n",
    "ax.set_title('Angles of H')\n",
    "plt.show()"
   ]
  },
  {
   "cell_type": "markdown",
   "id": "9af24437",
   "metadata": {},
   "source": [
    "# Deuterium"
   ]
  },
  {
   "cell_type": "markdown",
   "id": "364f41f6",
   "metadata": {},
   "source": [
    "Now we can change the system to included the reduced mass $\\mu$ of deuterium where the reduced mass is given by\n",
    "$$ \\mu = \\frac{m_e(m_p+m_n)}{m_e+(m_p+m_n)} $$\n",
    "As such, the energy levels in this semi classical model are given by \n",
    "\n",
    "$$E = -\\frac{\\mu e^4}{32\\pi^2\\epsilon_{0}^2\\hbar^2n^2}Z^2$$\n",
    "\n",
    "Since there is only 1 electron we will not include spin orbit effects.\n",
    "The Rydberg constant (Deuterium) $R_D$ is given by the following equation:\n",
    "\n",
    "$$ R_D = \\frac{1}{\\lambda(\\frac{1}{n_{f}^2} - \\frac{1}{n_{i}^2})} $$\n",
    "\n",
    "where $\\lambda$ is the wavelength, $n_{f}$ is the quantum number of the final state, $n_{i}$ is the quantum number of the initial state."
   ]
  },
  {
   "cell_type": "code",
   "execution_count": 5,
   "id": "a78e4141",
   "metadata": {},
   "outputs": [
    {
     "name": "stdout",
     "output_type": "stream",
     "text": [
      "9.10662507271834e-31\n",
      "The value of the Deuteriun Rydberg constant is: 10967758.340179801\n",
      "The value of the inifinity Rydberg constant is: 10973731.568072572\n"
     ]
    }
   ],
   "source": [
    "mu_D = ((9.1091031e-31*(1.6726219e-27+1.674927471e-27)))/(9.1091031e-31+(1.6726219e-27+1.674927471e-27))\n",
    "\n",
    "print(mu_D)\n",
    "\n",
    "def calc_E_D(Z, i):\n",
    "    E =-1*((mu_D*(1.602176634e-19**4))/(2*((4*np.pi*8.8541878128e-12)**2)*((6.62607015e-34/(2*np.pi))**2)*(i**2))*(Z**2))*(1/1.602176634e-19)\n",
    "    return E\n",
    "\n",
    "arrayD = []\n",
    "for i in range(1,11):\n",
    "    arrayD.append(calc_E_D(1, i))\n",
    "arrayD\n",
    "\n",
    "#Balmer Series \n",
    "array_baD = []\n",
    "for i in range(2,10):\n",
    "    wavelength = calc_wavelength(arrayD[1], arrayD[i])\n",
    "    array_baD.append(wavelength)\n",
    "array_baD\n",
    "def calc_R_D(wavelength, n_f, n_i):\n",
    "    R = 1/(wavelength*(1/(n_f**2) - 1/(n_i**2)))\n",
    "    return R\n",
    "\n",
    "array_R_D = []\n",
    "for i in range(0,7):\n",
    "    R = calc_R_D(array_baD[i], 2, i+3)\n",
    "    array_R_D.append(R)\n",
    "print(\"The value of the Deuteriun Rydberg constant is:\", array_R[0])\n",
    "\n",
    "R_infinity_D = array_R_D[0]*(9.1093837015e-31/mu_D)\n",
    "print(\"The value of the inifinity Rydberg constant is:\", R_infinity_D)"
   ]
  },
  {
   "cell_type": "code",
   "execution_count": 6,
   "id": "65e344a4",
   "metadata": {},
   "outputs": [
    {
     "name": "stdout",
     "output_type": "stream",
     "text": [
      "[22.75795452 16.65136632 14.82371403]\n"
     ]
    }
   ],
   "source": [
    "d = 1.6966e-6\n",
    "\n",
    "#Since the experimentalists can only see 3 angles it must be noted that only 3 angles work\n",
    "anglesD = np.zeros(7)\n",
    "for i in range(0,7):\n",
    "     anglesD[i] = ((180/np.pi)*np.arcsin(((1)*array_baD[i])/d))\n",
    "        \n",
    "anglesD = anglesD[:-4]\n",
    "print(anglesD)"
   ]
  },
  {
   "cell_type": "code",
   "execution_count": 7,
   "id": "a22f4b63",
   "metadata": {},
   "outputs": [
    {
     "data": {
      "image/png": "[encoded data removed]",
      "text/plain": [
       "<Figure size 720x432 with 1 Axes>"
      ]
     },
     "metadata": {
      "needs_background": "light"
     },
     "output_type": "display_data"
    }
   ],
   "source": [
    "#Display the predicted angles\n",
    "fig = plt.figure(figsize=(10,6))\n",
    "ax = fig.add_subplot(1,1,1)\n",
    "\n",
    "x = [1,1,1]\n",
    "\n",
    "plt.vlines(anglesD[0], ymin=0, ymax = 1, colors='blue', ls='-', lw=2, label='vline_multiple - full height')\n",
    "plt.vlines(anglesD[1], ymin=0, ymax = 1, colors='yellow', ls='-', lw=2, label='vline_multiple - full height')\n",
    "plt.vlines(anglesD[2], ymin=0, ymax = 1, colors='red', ls='-', lw=2, label='vline_multiple - full height')\n",
    "\n",
    "ax.get_yaxis().set_visible(False)\n",
    "ax.set_xlabel('Angles ($^o$)')\n",
    "ax.set_ylabel('')\n",
    "ax.set_title('Angles of Deuterium')\n",
    "plt.show()"
   ]
  },
  {
   "cell_type": "markdown",
   "id": "5188d8d3",
   "metadata": {},
   "source": [
    "# Helium ion"
   ]
  },
  {
   "cell_type": "markdown",
   "id": "0d8fab3f",
   "metadata": {},
   "source": [
    "Now we can change the system to included the reduced mass $\\mu$ of the helium ion where the reduced mass is given by\n",
    "$$ \\mu = \\frac{2m_e(m_p+m_n)}{m_e+2(m_p+m_n)} $$\n",
    "\n",
    "We can do the problem two ways. One way is by using the Dirac equation for energy levels and the second is by using Schrodinger's equation.\n",
    "\n",
    "Looking at this problem using the energy levels from Dirac's equation of the atom\n",
    "\n",
    "$$E = -\\mu c^2 \\bigg( 1+\\bigg( \\frac{2\\alpha}{Z-1+(1-(4\\alpha)^2)} \\bigg)^2 \\bigg)^{-\\frac{1}{2}}$$\n",
    "\n",
    "where $\\alpha$ is the coupling constant where $\\alpha = \\frac{1}{137}$. Since there is only 1 electron we will not include spin orbit effects.\n",
    "\n",
    "The Helium Rydberg constant $R_{He}$ is given by the following equation:\n",
    "\n",
    "$$ R_{He} = \\frac{1}{\\lambda (\\frac{1}{n_{f}^2} - \\frac{1}{n_{i}^2})} $$\n",
    "\n",
    "where $\\lambda$ is the wavelength, $n_{f}$ is the quantum number of the final state, $n_{i}$ is the quantum number of the initial state. The infinity Rydberg constant is now given by the following equation\n",
    "\n",
    "$$R_\\infty = R_{He}\\frac{m_e}{\\mu_{He}}\\frac{1}{Z^2}$$"
   ]
  },
  {
   "cell_type": "code",
   "execution_count": 33,
   "id": "e724f65c",
   "metadata": {},
   "outputs": [
    {
     "name": "stdout",
     "output_type": "stream",
     "text": [
      "9.107863917825278e-31\n",
      "[-510859.27979368204, -510900.0920555546, -510907.6500964949, -510910.29538139, -510911.51975781284, -510912.1848459235, -510912.58587064577, -510912.84614987846, -510913.0245957847, -510913.15223669517]\n",
      "[1.0126313780835862e-06, 6.561869579251866e-07, 5.413000655750809e-07, 4.860660581126306e-07, 4.5428530156541014e-07, 4.339883724945124e-07]\n",
      "[43890052.59599593, 43889930.533004515, 43889844.59541039, 43889782.01063774, 43889735.084441654, 43889699.02150984]\n",
      "The value of the Helium Rydberg constant is 43890052.59599593\n",
      "The value of the infinty Rydberg constant is: 10974344.077359902\n"
     ]
    }
   ],
   "source": [
    "mu_He = (9.1091031e-31*(2*1.67262192369e-27+2*1.67492749804e-27))/(9.1091031e-31+(2*1.67262192369e-27+2*1.67492749804e-27))\n",
    "print(mu_He)\n",
    "\n",
    "def calc_E_He1(Z, i):\n",
    "    alpha = (1.602176634e-19**2)/(4*np.pi*8.8541878128e-12*(6.62607015e-34/(2*np.pi))*2.99792458e8)\n",
    "    square = 1+((2*alpha)/(i-1+np.sqrt(1-(4*(alpha)**2))))**2\n",
    "    E =-1*(mu_He*(2.99792458e8**2)*(square)**-0.5)*(1/1.602176634e-19)\n",
    "    return E\n",
    "\n",
    "arrayHe = []\n",
    "for i in range(1,11):\n",
    "    arrayHe.append(calc_E_He1(2, i))\n",
    "print(arrayHe)\n",
    "\n",
    "#Balmer Series \n",
    "array_baHe = []\n",
    "for i in range(4,10):\n",
    "    wavelength = calc_wavelength(arrayHe[3], arrayHe[i])\n",
    "    array_baHe.append(wavelength)\n",
    "\n",
    "print(array_baHe)\n",
    "\n",
    "def calc_R_He(wavelength, n_f, n_i):\n",
    "    R = 1/(wavelength*(1/(n_f**2) - 1/(n_i**2)))\n",
    "    return R\n",
    "\n",
    "array_R_He = []\n",
    "for i in range(0,6):\n",
    "    R = calc_R_He(array_baHe[i], 4, i+5)\n",
    "    array_R_He.append(R)\n",
    "print(array_R_He)\n",
    "print(\"The value of the Helium Rydberg constant is\", array_R_He[0])\n",
    "R_He = array_R_He[0]*(9.1093837015e-31/mu_He)\n",
    "print(\"The value of the infinty Rydberg constant is:\", R_He/4)"
   ]
  },
  {
   "cell_type": "markdown",
   "id": "6c0a4cf2",
   "metadata": {},
   "source": [
    "Looking at this problem using the energy levels from Schrodinger's model of the atom\n",
    "\n",
    "$$E = -\\frac{\\mu e^4}{32\\pi^2\\epsilon_{0}^2\\hbar^2n^2}Z^2$$\n",
    "\n",
    "Therefore, we must use the less used Bohr's model in order to predict the angles measured \n",
    "\n",
    "Since there is only 1 electron we will not include spin orbit effects."
   ]
  },
  {
   "cell_type": "code",
   "execution_count": 32,
   "id": "ac99c041",
   "metadata": {},
   "outputs": [
    {
     "name": "stdout",
     "output_type": "stream",
     "text": [
      "[-54.413692750929044, -13.603423187732261, -6.045965861214339, -3.4008557969330653, -2.1765477100371617, -1.5114914653035847, -1.110483525529164, -0.8502139492332663, -0.6717739845793709, -0.5441369275092904]\n",
      "[1.0126313780835862e-06, 6.561869579251866e-07, 5.413000655750809e-07, 4.860660581126306e-07, 4.5428530156541014e-07, 4.339883724945124e-07]\n",
      "[43890052.59599593, 43889930.533004515, 43889844.59541039, 43889782.01063774, 43889735.084441654, 43889699.02150984]\n",
      "The value of the Helium Rydberg constant is 43890052.59599593\n",
      "The value of the infinty Rydberg constant is: 10974344.077359902\n"
     ]
    }
   ],
   "source": [
    "def calc_E_He2(Z, i):\n",
    "    E =-1*((mu_He*(1.602176634e-19**4))/(2*((4*np.pi*8.8541878128e-12)**2)*((6.62607015e-34/(2*np.pi))**2)*(i**2))*(Z**2))*(1/1.602176634e-19)\n",
    "    return E\n",
    "\n",
    "arrayHe = []\n",
    "for i in range(1,11):\n",
    "    arrayHe.append(calc_E_He2(2, i))\n",
    "print(arrayHe)\n",
    "\n",
    "print(array_baHe)\n",
    "def calc_R_He(wavelength, n_f, n_i):\n",
    "    R = 1/(wavelength*(1/(n_f**2) - 1/(n_i**2)))\n",
    "    return R\n",
    "\n",
    "array_R_He = []\n",
    "for i in range(0,6):\n",
    "    R = calc_R_He(array_baHe[i], 4, i+5)\n",
    "    array_R_He.append(R)\n",
    "print(array_R_He)\n",
    "print(\"The value of the Helium Rydberg constant is\", array_R_He[0])\n",
    "R_He = array_R_He[0]*(9.1093837015e-31/mu_He)\n",
    "print(\"The value of the infinty Rydberg constant is:\", R_He/4)"
   ]
  },
  {
   "cell_type": "code",
   "execution_count": 11,
   "id": "6687b625",
   "metadata": {},
   "outputs": [
    {
     "name": "stdout",
     "output_type": "stream",
     "text": [
      "[36.64528654 22.75341084 18.60547679 16.64818476 15.53114636]\n"
     ]
    }
   ],
   "source": [
    "d = 1.6966e-6\n",
    "\n",
    "#Since the experimentalists can only see 3 angles it must be noted that only 3 angles work\n",
    "anglesHe = np.zeros(5)\n",
    "for i in range(0,5):\n",
    "    anglesHe[i] = ((180/np.pi)*np.arcsin(((1)*array_baHe[i])/d))\n",
    "print(anglesHe)"
   ]
  },
  {
   "cell_type": "code",
   "execution_count": 12,
   "id": "f3cc53d9",
   "metadata": {},
   "outputs": [
    {
     "data": {
      "image/png": "[encoded data removed]",
      "text/plain": [
       "<Figure size 720x432 with 1 Axes>"
      ]
     },
     "metadata": {
      "needs_background": "light"
     },
     "output_type": "display_data"
    }
   ],
   "source": [
    "#Display the predicted angles\n",
    "fig = plt.figure(figsize=(10,6))\n",
    "ax = fig.add_subplot(1,1,1)\n",
    "\n",
    "plt.vlines(anglesHe[0], ymin=0, ymax = 1, colors='blue', ls='-', lw=2, label='vline_multiple - full height')\n",
    "plt.vlines(anglesHe[1], ymin=0, ymax = 1, colors='yellow', ls='-', lw=2, label='vline_multiple - full height')\n",
    "plt.vlines(anglesHe[2], ymin=0, ymax = 1, colors='red', ls='-', lw=2, label='vline_multiple - full height')\n",
    "\n",
    "ax.get_yaxis().set_visible(False)\n",
    "ax.set_xlabel('Angles ($^o$)')\n",
    "ax.set_ylabel('')\n",
    "ax.set_title('Angles of Helium Ion')\n",
    "plt.show()"
   ]
  },
  {
   "cell_type": "code",
   "execution_count": 13,
   "id": "9dd66d29",
   "metadata": {},
   "outputs": [
    {
     "name": "stdout",
     "output_type": "stream",
     "text": [
      "[22.76376206 16.65550687 14.82737786]\n"
     ]
    },
    {
     "data": {
      "image/png": "[encoded data removed]",
      "text/plain": [
       "<Figure size 720x432 with 1 Axes>"
      ]
     },
     "metadata": {
      "needs_background": "light"
     },
     "output_type": "display_data"
    }
   ],
   "source": [
    "fig = plt.figure(figsize=(10,6))\n",
    "ax = fig.add_subplot(1,1,1)\n",
    "\n",
    "print(anglesH)\n",
    "\n",
    "\n",
    "plt.vlines(anglesHe[0], ymin=0, ymax = 1, colors='green', ls='-', lw=2, label='Helium')\n",
    "plt.vlines(anglesH[0], ymin=0, ymax = 1, colors='blue', ls='-', lw=2, label='Hydrogen')\n",
    "plt.vlines(anglesD[0], ymin=0, ymax = 1, colors='red', ls='-', lw=2, label='Deuterium')\n",
    "plt.vlines(anglesHe[1], ymin=0, ymax = 1, colors='green', ls='-', lw=2)\n",
    "plt.vlines(anglesH[1], ymin=0, ymax = 1, colors='blue', ls='-', lw=2)\n",
    "plt.vlines(anglesD[1], ymin=0, ymax = 1, colors='red', ls='-', lw=2 )\n",
    "plt.vlines(anglesHe[2], ymin=0, ymax = 1, colors='green', ls='-', lw=2)\n",
    "plt.vlines(anglesH[2], ymin=0, ymax = 1, colors='blue', ls='-', lw=2)\n",
    "plt.vlines(anglesD[2], ymin=0, ymax = 1, colors='red', ls='-', lw=2 )\n",
    "\n",
    "ax.get_yaxis().set_visible(False)\n",
    "plt.legend(loc=\"upper left\")\n",
    "ax.set_xlabel('Angles ($^o$)')\n",
    "ax.set_ylabel('')\n",
    "ax.set_title('Angles of Helium Ion')\n",
    "plt.show()"
   ]
  },
  {
   "cell_type": "code",
   "execution_count": 14,
   "id": "5927f19b",
   "metadata": {},
   "outputs": [
    {
     "name": "stdout",
     "output_type": "stream",
     "text": [
      "[22.76376206 16.65550687 14.82737786]\n"
     ]
    },
    {
     "data": {
      "image/png": "[encoded data removed]",
      "text/plain": [
       "<Figure size 720x432 with 1 Axes>"
      ]
     },
     "metadata": {
      "needs_background": "light"
     },
     "output_type": "display_data"
    }
   ],
   "source": [
    "fig = plt.figure(figsize=(10,6))\n",
    "ax = fig.add_subplot(1,1,1)\n",
    "\n",
    "print(anglesH)\n",
    "\n",
    "\n",
    "plt.vlines(anglesHe[0], ymin=0, ymax = 1, colors='green', ls='-', lw=2, label='Helium')\n",
    "plt.vlines(anglesH[0], ymin=0, ymax = 1, colors='blue', ls='-', lw=2, label='Hydrogen')\n",
    "plt.vlines(anglesD[0], ymin=0, ymax = 1, colors='red', ls='-', lw=2, label='Deuterium')\n",
    "plt.vlines(anglesHe[1], ymin=0, ymax = 1, colors='green', ls='-', lw=2)\n",
    "plt.vlines(anglesH[1], ymin=0, ymax = 1, colors='blue', ls='-', lw=2)\n",
    "plt.vlines(anglesD[1], ymin=0, ymax = 1, colors='red', ls='-', lw=2 )\n",
    "plt.vlines(anglesHe[2], ymin=0, ymax = 1, colors='green', ls='-', lw=2)\n",
    "plt.vlines(anglesH[2], ymin=0, ymax = 1, colors='blue', ls='-', lw=2)\n",
    "plt.vlines(anglesD[2], ymin=0, ymax = 1, colors='red', ls='-', lw=2 )\n",
    "\n",
    "ax.get_yaxis().set_visible(False)\n",
    "plt.legend(loc=\"upper left\")\n",
    "ax.set_xlabel('Angles ($^o$)')\n",
    "ax.set_ylabel('')\n",
    "ax.set_title('Angles of Helium Ion')\n",
    "plt.xlim(21, 23)\n",
    "plt.show()"
   ]
  },
  {
   "cell_type": "code",
   "execution_count": 15,
   "id": "bea510f0",
   "metadata": {},
   "outputs": [
    {
     "name": "stdout",
     "output_type": "stream",
     "text": [
      "9.108144442965707e-31\n"
     ]
    },
    {
     "name": "stderr",
     "output_type": "stream",
     "text": [
      "C:\\ProgramData\\Anaconda3\\lib\\site-packages\\scipy\\optimize\\minpack.py:833: OptimizeWarning: Covariance of the parameters could not be estimated\n",
      "  warnings.warn('Covariance of the parameters could not be estimated',\n",
      "C:\\ProgramData\\Anaconda3\\lib\\site-packages\\scipy\\optimize\\minpack.py:833: OptimizeWarning: Covariance of the parameters could not be estimated\n",
      "  warnings.warn('Covariance of the parameters could not be estimated',\n"
     ]
    },
    {
     "data": {
      "image/png": "[encoded data removed]",
      "text/plain": [
       "<Figure size 720x432 with 1 Axes>"
      ]
     },
     "metadata": {
      "needs_background": "light"
     },
     "output_type": "display_data"
    }
   ],
   "source": [
    "n=100\n",
    "\n",
    "mu_H = (1.67262192e-27*9.1093837015e-31)/(1.67262192e-27+9.1093837015e-31)\n",
    "mu_D = ((9.1093837015e-31*(1.6726219e-27+1.674927471e-27)))/(9.1093837015e-31+(1.6726219e-27+1.674927471e-27))\n",
    "mu_He = (9.1093837015e-31*2*(1.6726219e-27+1.674927471e-27))/(9.1093837015e-31+2*(1.6726219e-27+1.674927471e-27))\n",
    "print(mu_He)\n",
    "\n",
    "R_infinity = (9.1093837015e-31*1.602176634e-19**4)/(8*(8.854187817e-12**2)*(6.62607015e-34**3)*2.99792458e8)\n",
    "\n",
    "R_H = R_infinity*(mu_H/9.1093837015e-31)\n",
    "R_D = R_infinity*(mu_D/9.1093837015e-31)\n",
    "R_He = R_infinity*(mu_He/9.1093837015e-31)\n",
    "\n",
    "\n",
    "\n",
    "p =np.zeros(n)\n",
    "inversearraybaH = np.zeros(n)\n",
    "inversearraybaD = np.zeros(n)\n",
    "inversearraybaHe = np.zeros(n)\n",
    "\n",
    "for i in range(0,n):\n",
    "    p[i] = (1/2**2) - (1/(i+3)**2)\n",
    "    inversearraybaH[i] = R_H*p[i]\n",
    "    inversearraybaD[i] = R_D*p[i]\n",
    "    inversearraybaHe[i] = R_He*p[i]\n",
    "\n",
    "fig = plt.figure(figsize=(10,6))\n",
    "ax = fig.add_subplot(1,1,1)\n",
    "\n",
    "ax.errorbar(p,           \n",
    "             inversearraybaH,                   \n",
    "             marker='o',             \n",
    "             markersize = 7,        \n",
    "             color='black',         \n",
    "             ecolor='black',        \n",
    "             markerfacecolor='black',\n",
    "             linestyle='none',       \n",
    "             capsize=6,  \n",
    "             label = \"Hydrogen\",\n",
    "             )\n",
    "ax.errorbar(p,           \n",
    "             inversearraybaD,                   \n",
    "             marker='o',             \n",
    "             markersize = 7,        \n",
    "             color='red',         \n",
    "             ecolor='red',        \n",
    "             markerfacecolor='red',\n",
    "             linestyle='none',       \n",
    "             capsize=6,  \n",
    "             label = \"Deuterium\",\n",
    "             )\n",
    "ax.errorbar(p,           \n",
    "             inversearraybaHe,                   \n",
    "             marker='o',             \n",
    "             markersize = 7,        \n",
    "             color='blue',         \n",
    "             ecolor='blue',        \n",
    "             markerfacecolor='blue',\n",
    "             linestyle='none',       \n",
    "             capsize=6,  \n",
    "             label = \"Helium ion\",\n",
    "             )\n",
    "\n",
    "def straight_fit(z, a, b):\n",
    "    mag = a * z + b\n",
    "    return(mag)\n",
    "\n",
    "handles, labels = ax.get_legend_handles_labels()\n",
    "ax.legend(handles[::-1],labels[::-1],loc=0, numpoints=1)\n",
    "\n",
    "popt, pcov = curve_fit(straight_fit, p, inversearraybaH)\n",
    "\n",
    "a = popt[0]\n",
    "b = popt[1]\n",
    "\n",
    "z = np.linspace(0.125, 0.26, 100)\n",
    "\n",
    "ax.plot(z, straight_fit(z, a, b), color='black', ls='-', label='best fit')\n",
    "\n",
    "popt, pcov = curve_fit(straight_fit, p, inversearraybaD)\n",
    "\n",
    "c = popt[0]\n",
    "d = popt[1]\n",
    "\n",
    "ax.plot(z, straight_fit(z, c, d), color='red', ls='--', label='best fit')\n",
    "\n",
    "popt, pcov = curve_fit(straight_fit, p, inversearraybaHe)\n",
    "\n",
    "e = popt[0]\n",
    "f = popt[1]\n",
    "\n",
    "ax.plot(z, straight_fit(z, e, f), color='blue', ls='--', label='best fit')\n",
    "\n",
    "ax.set_xlabel('1/$n_f^2$ - 1/$n_i^2$')\n",
    "ax.set_ylabel('$1/\\lambda}$ (m$^(-1)$)')\n",
    "ax.set_title('Angles of H, D and He+')\n",
    "plt.xlim(0.245, 0.246)\n",
    "plt.ylim(2.69e6, 2.71e6)\n",
    "plt.show()"
   ]
  },
  {
   "cell_type": "markdown",
   "id": "26b4b2d5",
   "metadata": {},
   "source": [
    "# When $\\theta$ is not perpendicular"
   ]
  },
  {
   "cell_type": "markdown",
   "id": "72ed49d0",
   "metadata": {},
   "source": [
    "The general formula for a diffraction grating where\n",
    "\n",
    "$$ \\frac{d(\\sin(\\theta_+) + \\sin(\\theta_-))}{2m}=\\lambda $$\n",
    "\n",
    "this is including the possibility that the angle of incidence is not perpendicular to the diffraction grating (where $\\theta_i \\not= 0$). In this case,\n",
    "\n",
    "$$ \\theta_+ = \\alpha_+ + \\theta_i $$\n",
    "$$ \\theta_- = \\alpha_- + \\theta_i $$\n",
    "\n",
    "Setting $\\alpha_+ = 0.5^o$ and $\\alpha_- = 0.5^o$ we can calculate the realistic value of the $ \\theta_- $ and $ \\theta_+$."
   ]
  },
  {
   "cell_type": "code",
   "execution_count": 29,
   "id": "651eaa2b",
   "metadata": {},
   "outputs": [
    {
     "name": "stdout",
     "output_type": "stream",
     "text": [
      "[ 4.26850466 10.06248968 11.85430097 12.67938461 13.13556553 13.41671218\n",
      " 13.60310707]\n",
      "[22.75795452 16.65136632 14.82371403]\n"
     ]
    },
    {
     "name": "stderr",
     "output_type": "stream",
     "text": [
      "C:\\Users\\User\\AppData\\Local\\Temp/ipykernel_17384/3496487876.py:19: RuntimeWarning: invalid value encountered in arcsin\n",
      "  anglesHe_plusnew[i] = (180/np.pi)*np.arcsin((((1)*array_baHe[i])/d)+np.sin(theta_i))\n"
     ]
    }
   ],
   "source": [
    "alphaplus = 0.5\n",
    "alphaminus = 0.5\n",
    "d = 1.6966e-6\n",
    "\n",
    "#Since the experimentalists can only see 3 angles it must be noted that only 3 angles work\n",
    "anglesD_plusnew = np.zeros(7)\n",
    "anglesH_plusnew = np.zeros(7)\n",
    "anglesHe_plusnew = np.zeros(5)\n",
    "anglesD_minusnew = np.zeros(7)\n",
    "anglesH_minusnew = np.zeros(7)\n",
    "anglesHe_minusnew = np.zeros(5)\n",
    "\n",
    "theta_i = (np.sin(alphaplus)+np.sin(alphaminus))/(2 - np.cos(alphaplus)+np.cos(alphaminus))\n",
    "\n",
    "for i in range(0,7):\n",
    "        anglesD_plusnew[i] = (180/np.pi)*np.arcsin((((1)*array_baD[i])/d)+np.sin(theta_i))\n",
    "        anglesH_plusnew[i] = (180/np.pi)*np.arcsin((((1)*array_ba[i])/d)+np.sin(theta_i))\n",
    "for i in range(0,5):\n",
    "        anglesHe_plusnew[i] = (180/np.pi)*np.arcsin((((1)*array_baHe[i])/d)+np.sin(theta_i))\n",
    "for i in range(0,7):\n",
    "        anglesD_minusnew[i] = (180/np.pi)*np.arcsin((((-1)*array_baD[i])/d)+np.sin(theta_i))\n",
    "        anglesH_minusnew[i] = (180/np.pi)*np.arcsin((((-1)*array_ba[i])/d)+np.sin(theta_i))\n",
    "for i in range(0,5):\n",
    "        anglesHe_minusnew[i] = (180/np.pi)*np.arcsin((((-1)*array_baHe[i])/d)+np.sin(theta_i))\n",
    "        \n",
    "print(anglesD_minusnew)\n",
    "print(anglesD)"
   ]
  },
  {
   "cell_type": "code",
   "execution_count": null,
   "id": "15cd1a44",
   "metadata": {},
   "outputs": [],
   "source": []
  }
 ],
 "metadata": {
  "kernelspec": {
   "display_name": "Python 3 (ipykernel)",
   "language": "python",
   "name": "python3"
  },
  "language_info": {
   "codemirror_mode": {
    "name": "ipython",
    "version": 3
   },
   "file_extension": ".py",
   "mimetype": "text/x-python",
   "name": "python",
   "nbconvert_exporter": "python",
   "pygments_lexer": "ipython3",
   "version": "3.9.7"
  }
 },
 "nbformat": 4,
 "nbformat_minor": 5
}
